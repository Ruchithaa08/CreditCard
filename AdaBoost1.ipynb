{
 "cells": [
  {
   "cell_type": "markdown",
   "metadata": {},
   "source": [
    "# Hyper tuned AdaBoost Model for Credit Card Fraud Detection "
   ]
  },
  {
   "cell_type": "code",
   "execution_count": 1,
   "metadata": {},
   "outputs": [],
   "source": [
    "import pandas as pd\n",
    "from sklearn.model_selection import train_test_split, GridSearchCV\n",
    "from sklearn.preprocessing import StandardScaler, QuantileTransformer\n",
    "from sklearn.ensemble import AdaBoostClassifier\n",
    "from sklearn.metrics import accuracy_score, mean_squared_error, mean_absolute_error, r2_score,precision_score, recall_score, f1_score\n",
    "import numpy as np\n",
    "from sklearn.feature_selection import RFE\n",
    "import matplotlib.pyplot as plt\n",
    "from sklearn.preprocessing import LabelEncoder\n",
    "\n"
   ]
  },
  {
   "cell_type": "code",
   "execution_count": 2,
   "metadata": {},
   "outputs": [
    {
     "name": "stdout",
     "output_type": "stream",
     "text": [
      "Shape of X: (984, 31)\n",
      "Shape of y: (984,)\n"
     ]
    }
   ],
   "source": [
    "df=pd.read_csv(\"cleaned.csv\")\n",
    "# Drop 'Class' column and assign X values\n",
    "X = df.drop(columns=['Class'])  \n",
    "# Target variable is 'Class'\n",
    "y = df['Class']  \n",
    "print(\"Shape of X:\", X.shape)\n",
    "print(\"Shape of y:\", y.shape)\n"
   ]
  },
  {
   "cell_type": "code",
   "execution_count": 3,
   "metadata": {},
   "outputs": [
    {
     "data": {
      "text/plain": [
       "0"
      ]
     },
     "execution_count": 3,
     "metadata": {},
     "output_type": "execute_result"
    }
   ],
   "source": [
    "df.isnull().sum().sum()"
   ]
  },
  {
   "cell_type": "code",
   "execution_count": 5,
   "metadata": {},
   "outputs": [],
   "source": [
    "X_train, X_test, y_train, y_test = train_test_split(X, y, test_size=0.2, random_state=42)\n"
   ]
  },
  {
   "cell_type": "markdown",
   "metadata": {},
   "source": [
    "# Stanadrd Scaling"
   ]
  },
  {
   "cell_type": "code",
   "execution_count": 6,
   "metadata": {},
   "outputs": [],
   "source": [
    "scaler = StandardScaler()\n",
    "X_train_sscaled = scaler.fit_transform(X_train)\n",
    "X_test_sscaled = scaler.fit_transform(X_test)\n"
   ]
  },
  {
   "cell_type": "code",
   "execution_count": 7,
   "metadata": {},
   "outputs": [
    {
     "name": "stdout",
     "output_type": "stream",
     "text": [
      "Best Parameters: {'learning_rate': 0.1, 'n_estimators': 150}\n",
      "Accuracy: 0.9187817258883249\n",
      "Precision: 0.9555555555555556\n",
      "Recall: 0.8775510204081632\n",
      "F1 Score: 0.9148936170212767\n"
     ]
    }
   ],
   "source": [
    "adaboost_model = AdaBoostClassifier()\n",
    "param_grid = {'n_estimators': [50, 100, 150],'learning_rate': [0.01, 0.1, 1.0] }\n",
    "\n",
    "grid_search = GridSearchCV(adaboost_model, param_grid, cv=10, scoring='accuracy')\n",
    "grid_search.fit(X_train_sscaled, y_train)\n",
    "\n",
    "# Best parameters \n",
    "best_params = grid_search.best_params_\n",
    "\n",
    "# Using the best model to predict on test data\n",
    "best_adaboost = grid_search.best_estimator_\n",
    "y_pred = best_adaboost.predict(X_test_sscaled)\n",
    "\n",
    "# Calculating performance of Model\n",
    "accuracy_std = accuracy_score(y_test, y_pred)\n",
    "precision = precision_score(y_test, y_pred)\n",
    "recall = recall_score(y_test, y_pred)\n",
    "f1 = f1_score(y_test, y_pred)\n",
    "\n",
    "print(\"Best Parameters:\", best_params)\n",
    "print(\"Accuracy:\", accuracy_std)\n",
    "print(\"Precision:\", precision)\n",
    "print(\"Recall:\", recall)\n",
    "print(\"F1 Score:\", f1)"
   ]
  },
  {
   "cell_type": "markdown",
   "metadata": {},
   "source": [
    "# Quantile Scaling"
   ]
  },
  {
   "cell_type": "code",
   "execution_count": 8,
   "metadata": {},
   "outputs": [
    {
     "name": "stderr",
     "output_type": "stream",
     "text": [
      "C:\\ProgramData\\anaconda3\\Lib\\site-packages\\sklearn\\preprocessing\\_data.py:2667: UserWarning: n_quantiles (1000) is greater than the total number of samples (787). n_quantiles is set to n_samples.\n",
      "  warnings.warn(\n",
      "C:\\ProgramData\\anaconda3\\Lib\\site-packages\\sklearn\\preprocessing\\_data.py:2667: UserWarning: n_quantiles (1000) is greater than the total number of samples (197). n_quantiles is set to n_samples.\n",
      "  warnings.warn(\n"
     ]
    }
   ],
   "source": [
    "scaler_quantile = QuantileTransformer()\n",
    "X_train_qscaled = scaler_quantile.fit_transform(X_train)\n",
    "X_test_qscaled = scaler_quantile.fit_transform(X_test)"
   ]
  },
  {
   "cell_type": "code",
   "execution_count": 9,
   "metadata": {},
   "outputs": [
    {
     "name": "stdout",
     "output_type": "stream",
     "text": [
      "Best Parameters: {'learning_rate': 0.1, 'n_estimators': 150}\n",
      "Accuracy: 0.9238578680203046\n",
      "Precision: 0.946236559139785\n",
      "Recall: 0.8979591836734694\n",
      "F1 Score: 0.9214659685863874\n"
     ]
    }
   ],
   "source": [
    "adaboost_model = AdaBoostClassifier()\n",
    "param_grid = {'n_estimators': [50, 100, 150],'learning_rate': [0.01, 0.1, 1.0] }\n",
    "\n",
    "grid_search = GridSearchCV(adaboost_model, param_grid, cv=10, scoring='accuracy')\n",
    "grid_search.fit(X_train_qscaled, y_train)\n",
    "\n",
    "best_params = grid_search.best_params_\n",
    "\n",
    "best_adaboost = grid_search.best_estimator_\n",
    "y_pred = best_adaboost.predict(X_test_qscaled)\n",
    "\n",
    "accuracy_qan = accuracy_score(y_test, y_pred)\n",
    "precision = precision_score(y_test, y_pred)\n",
    "recall = recall_score(y_test, y_pred)\n",
    "f1 = f1_score(y_test, y_pred)\n",
    "\n",
    "print(\"Best Parameters:\", best_params)\n",
    "print(\"Accuracy:\", accuracy_qan)\n",
    "print(\"Precision:\", precision)\n",
    "print(\"Recall:\", recall)\n",
    "print(\"F1 Score:\", f1)"
   ]
  },
  {
   "cell_type": "code",
   "execution_count": 10,
   "metadata": {},
   "outputs": [
    {
     "name": "stdout",
     "output_type": "stream",
     "text": [
      "Performance of AdaBoost with Standard Scaling 0.9187817258883249\n",
      "Performance of AdaBoost with Quantile Scaling 0.9238578680203046\n"
     ]
    }
   ],
   "source": [
    "print('Performance of AdaBoost with Standard Scaling',accuracy_std )\n",
    "print('Performance of AdaBoost with Quantile Scaling',accuracy_qan )"
   ]
  },
  {
   "cell_type": "code",
   "execution_count": 11,
   "metadata": {},
   "outputs": [
    {
     "data": {
      "image/png": "[encoded data removed]",
      "text/plain": [
       "<Figure size 640x480 with 1 Axes>"
      ]
     },
     "metadata": {},
     "output_type": "display_data"
    }
   ],
   "source": [
    "Algo = ['AdaBoost-Quantile', 'AdaBoost-Standard']\n",
    "values = [accuracy_std,accuracy_qan]\n",
    "plt.bar(Algo, values)\n",
    "plt.xlabel('Algorithm')\n",
    "plt.ylabel('Accuracy')\n",
    "plt.title('Comparison of AdaBoost performance on Z-Score and Quantile Scaling')\n",
    "plt.show()"
   ]
  },
  {
   "cell_type": "code",
   "execution_count": null,
   "metadata": {},
   "outputs": [],
   "source": []
  }
 ],
 "metadata": {
  "kernelspec": {
   "display_name": "Python 3 (ipykernel)",
   "language": "python",
   "name": "python3"
  },
  "language_info": {
   "codemirror_mode": {
    "name": "ipython",
    "version": 3
   },
   "file_extension": ".py",
   "mimetype": "text/x-python",
   "name": "python",
   "nbconvert_exporter": "python",
   "pygments_lexer": "ipython3",
   "version": "3.11.4"
  }
 },
 "nbformat": 4,
 "nbformat_minor": 4
}
