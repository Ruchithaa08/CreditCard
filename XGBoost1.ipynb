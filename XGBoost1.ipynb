{
 "cells": [
  {
   "cell_type": "markdown",
   "metadata": {},
   "source": [
    "# Hyper tuned XGBoost Model for Credit Card Fraud Detection "
   ]
  },
  {
   "cell_type": "code",
   "execution_count": 12,
   "metadata": {},
   "outputs": [],
   "source": [
    "import pandas as pd\n",
    "from sklearn.model_selection import train_test_split, GridSearchCV\n",
    "from sklearn.preprocessing import StandardScaler, QuantileTransformer\n",
    "import xgboost as xgb\n",
    "from sklearn.metrics import accuracy_score, mean_squared_error, mean_absolute_error, r2_score,precision_score, recall_score, f1_score\n",
    "import numpy as np\n",
    "from sklearn.feature_selection import RFE\n",
    "import matplotlib.pyplot as plt\n",
    "from sklearn.preprocessing import LabelEncoder\n",
    "\n"
   ]
  },
  {
   "cell_type": "code",
   "execution_count": 13,
   "metadata": {},
   "outputs": [
    {
     "name": "stdout",
     "output_type": "stream",
     "text": [
      "Shape of X: (984, 31)\n",
      "Shape of y: (984,)\n"
     ]
    }
   ],
   "source": [
    "df=pd.read_csv(\"cleaned.csv\")\n",
    "# Drop 'Class' column and assign X values\n",
    "X = df.drop(columns=['Class'])  \n",
    "# Target variable is 'Class'\n",
    "y = df['Class']  \n",
    "print(\"Shape of X:\", X.shape)\n",
    "print(\"Shape of y:\", y.shape)\n"
   ]
  },
  {
   "cell_type": "code",
   "execution_count": 14,
   "metadata": {},
   "outputs": [
    {
     "data": {
      "text/plain": [
       "0"
      ]
     },
     "execution_count": 14,
     "metadata": {},
     "output_type": "execute_result"
    }
   ],
   "source": [
    "df.isnull().sum().sum()"
   ]
  },
  {
   "cell_type": "code",
   "execution_count": 15,
   "metadata": {},
   "outputs": [],
   "source": [
    "X_train, X_test, y_train, y_test = train_test_split(X, y, test_size=0.3, random_state=42)\n"
   ]
  },
  {
   "cell_type": "markdown",
   "metadata": {},
   "source": [
    "# Stanadrd Scaling"
   ]
  },
  {
   "cell_type": "code",
   "execution_count": 16,
   "metadata": {},
   "outputs": [],
   "source": [
    "scaler = StandardScaler()\n",
    "X_train_sscaled = scaler.fit_transform(X_train)\n",
    "X_test_sscaled = scaler.fit_transform(X_test)\n"
   ]
  },
  {
   "cell_type": "code",
   "execution_count": 17,
   "metadata": {},
   "outputs": [
    {
     "name": "stdout",
     "output_type": "stream",
     "text": [
      "[[-1.00002872 -0.90379017 -1.57325888 ...  0.12134171 -0.44957308\n",
      "  -0.46589921]\n",
      " [ 1.54299572  1.4787145   0.85134698 ... -0.19555242 -0.25625763\n",
      "  -0.3670939 ]\n",
      " [-0.18399655 -0.27064116 -0.35675939 ...  1.09295822 -0.39999203\n",
      "   0.47828432]\n",
      " ...\n",
      " [ 0.25497558  0.09323525  0.84912349 ... -0.14508625 -0.1497004\n",
      "  -0.38705257]\n",
      " [-1.14543336 -1.01152772 -0.35587991 ...  0.32102885  1.00345512\n",
      "  -0.40875022]\n",
      " [ 1.28302411  1.27977368  0.47678906 ...  0.19922245 -0.09924219\n",
      "  -0.46289552]]\n"
     ]
    }
   ],
   "source": [
    "print(X_test_sscaled)"
   ]
  },
  {
   "cell_type": "code",
   "execution_count": 19,
   "metadata": {},
   "outputs": [
    {
     "name": "stdout",
     "output_type": "stream",
     "text": [
      "Fitting 10 folds for each of 27 candidates, totalling 270 fits\n",
      "Best Parameters: {'learning_rate': 0.01, 'max_depth': 3, 'n_estimators': 300}\n",
      "XGBoost Evaluation Metrics:\n",
      "Accuracy: 0.9358108108108109\n",
      "Mean Squared Error: 0.06418918918918919\n",
      "Mean Absolute Error: 0.06418918918918919\n",
      "Root Mean Squared Error: 0.25335585485476586\n",
      "R-squared score: 0.7431963470319636\n"
     ]
    }
   ],
   "source": [
    "xgb_model = xgb.XGBClassifier()\n",
    "\n",
    "# Define the hyperparameter grid for tuning\n",
    "param_grid = {\n",
    "    'n_estimators': [100, 200, 300],\n",
    "    'max_depth': [3, 5, 7],\n",
    "    'learning_rate': [0.1, 0.01, 0.001]\n",
    "}\n",
    "\n",
    "# Perform Grid Search Cross Validation\n",
    "grid_search = GridSearchCV(estimator=xgb_model, param_grid=param_grid, cv=10, scoring='accuracy', verbose=2, n_jobs=-1)\n",
    "grid_search.fit(X_train_sscaled, y_train)\n",
    "\n",
    "# Get the best parameters from the grid search\n",
    "best_params = grid_search.best_params_\n",
    "\n",
    "# Train XGBoost model with the best parameters\n",
    "best_xgb_model = xgb.XGBClassifier(**best_params)\n",
    "best_xgb_model.fit(X_train_sscaled, y_train)\n",
    "\n",
    "# Predict on the testing set\n",
    "y_pred_xgb = best_xgb_model.predict(X_test_sscaled)\n",
    "\n",
    "# Calculate evaluation metrics\n",
    "accuracy_xgb = accuracy_score(y_test, y_pred_xgb)\n",
    "mse_xgb = mean_squared_error(y_test, y_pred_xgb)\n",
    "mae_xgb = mean_absolute_error(y_test, y_pred_xgb)\n",
    "rmse_xgb = np.sqrt(mse_xgb)\n",
    "r2_xgb = r2_score(y_test, y_pred_xgb)\n",
    "\n",
    "# Print the evaluation metrics for XGBoost\n",
    "print(\"Best Parameters:\", best_params)\n",
    "print(\"XGBoost Evaluation Metrics:\")\n",
    "print(\"Accuracy:\", accuracy_xgb)\n",
    "print(\"Mean Squared Error:\", mse_xgb)\n",
    "print(\"Mean Absolute Error:\", mae_xgb)\n",
    "print(\"Root Mean Squared Error:\", rmse_xgb)\n",
    "print(\"R-squared score:\", r2_xgb)\n"
   ]
  },
  {
   "cell_type": "markdown",
   "metadata": {},
   "source": [
    "# Quantile Scaling"
   ]
  },
  {
   "cell_type": "code",
   "execution_count": 20,
   "metadata": {},
   "outputs": [
    {
     "name": "stdout",
     "output_type": "stream",
     "text": [
      "[[0.22033898 0.22033898 0.07457627 ... 0.66779661 0.13220339 0.        ]\n",
      " [0.95254237 0.95254237 1.         ... 0.26101695 0.20338983 0.54237288]\n",
      " [0.44745763 0.44745763 0.19661017 ... 0.90169492 0.14915254 0.84745763]\n",
      " ...\n",
      " [0.56610169 0.56610169 0.99661017 ... 0.37627119 0.31525424 0.51525424]\n",
      " [0.17966102 0.17966102 0.2        ... 0.74915254 0.91186441 0.46440678]\n",
      " [0.86101695 0.86101695 0.65423729 ... 0.70508475 0.34915254 0.0440678 ]]\n"
     ]
    },
    {
     "name": "stderr",
     "output_type": "stream",
     "text": [
      "C:\\ProgramData\\anaconda3\\Lib\\site-packages\\sklearn\\preprocessing\\_data.py:2667: UserWarning: n_quantiles (1000) is greater than the total number of samples (688). n_quantiles is set to n_samples.\n",
      "  warnings.warn(\n",
      "C:\\ProgramData\\anaconda3\\Lib\\site-packages\\sklearn\\preprocessing\\_data.py:2667: UserWarning: n_quantiles (1000) is greater than the total number of samples (296). n_quantiles is set to n_samples.\n",
      "  warnings.warn(\n"
     ]
    }
   ],
   "source": [
    "scaler_quantile = QuantileTransformer()\n",
    "X_train_qscaled = scaler_quantile.fit_transform(X_train)\n",
    "X_test_qscaled = scaler_quantile.fit_transform(X_test)\n",
    "print(X_test_qscaled)"
   ]
  },
  {
   "cell_type": "code",
   "execution_count": 21,
   "metadata": {},
   "outputs": [
    {
     "name": "stdout",
     "output_type": "stream",
     "text": [
      "Fitting 10 folds for each of 27 candidates, totalling 270 fits\n",
      "Best Parameters: {'learning_rate': 0.01, 'max_depth': 3, 'n_estimators': 300}\n",
      "XGBoost Evaluation Metrics:\n",
      "Accuracy: 0.9358108108108109\n",
      "Mean Squared Error: 0.06418918918918919\n",
      "Mean Absolute Error: 0.06418918918918919\n",
      "Root Mean Squared Error: 0.25335585485476586\n",
      "R-squared score: 0.7431963470319636\n",
      "[1 0 1 0 0 1 1 0 1 1 0 1 0 0 0 0 0 1 1 0 0 0 1 0 1 0 0 0 0 0 0 0 1 1 1 0 0\n",
      " 0 0 0 0 0 1 0 1 1 0 0 0 1 1 1 1 1 1 1 1 0 1 1 0 0 0 0 0 0 1 0 0 1 0 0 0 1\n",
      " 0 0 0 0 0 0 1 1 1 1 0 0 0 1 1 1 0 0 1 1 1 1 0 1 1 1 1 1 0 1 1 1 0 1 1 1 1\n",
      " 1 1 0 1 0 0 1 0 1 0 1 0 1 1 1 1 0 0 1 1 1 1 0 1 0 0 0 1 1 1 1 1 0 1 0 0 0\n",
      " 0 0 0 0 0 0 0 1 1 0 1 0 0 0 0 1 1 0 1 1 0 0 1 1 0 0 0 0 0 0 1 0 1 1 0 0 0\n",
      " 0 0 1 1 1 1 1 0 0 1 0 1 1 0 0 1 1 0 1 0 1 0 0 0 0 0 1 1 0 1 0 0 0 0 1 1 0\n",
      " 1 0 1 0 1 1 0 0 1 0 0 0 1 0 0 0 1 1 0 0 1 0 1 1 1 1 0 1 0 0 0 1 1 1 0 1 0\n",
      " 0 0 1 0 0 1 0 1 0 1 0 0 0 1 1 1 0 1 1 1 0 1 0 0 1 0 0 0 1 0 1 0 1 1 0 1 1]\n"
     ]
    }
   ],
   "source": [
    "xgb_model = xgb.XGBClassifier()\n",
    "\n",
    "# Define the hyperparameter grid for tuning\n",
    "param_grid = {\n",
    "    'n_estimators': [100, 200, 300],\n",
    "    'max_depth': [3, 5, 7],\n",
    "    'learning_rate': [0.1, 0.01, 0.001]\n",
    "}\n",
    "\n",
    "# Perform Grid Search Cross Validation\n",
    "grid_search = GridSearchCV(estimator=xgb_model, param_grid=param_grid, cv=10, scoring='accuracy', verbose=2, n_jobs=-1)\n",
    "grid_search.fit(X_train_qscaled, y_train)\n",
    "\n",
    "# Get the best parameters from the grid search\n",
    "best_params = grid_search.best_params_\n",
    "\n",
    "# Train XGBoost model with the best parameters\n",
    "best_xgb_model = xgb.XGBClassifier(**best_params)\n",
    "best_xgb_model.fit(X_train_qscaled, y_train)\n",
    "\n",
    "# Predict on the testing set\n",
    "y_pred_xgb_qs = best_xgb_model.predict(X_test_qscaled)\n",
    "\n",
    "# Calculate evaluation metrics\n",
    "accuracy_xgb_qs = accuracy_score(y_test, y_pred_xgb)\n",
    "mse_xgb_qs = mean_squared_error(y_test, y_pred_xgb)\n",
    "mae_xgb_qs = mean_absolute_error(y_test, y_pred_xgb)\n",
    "rmse_xgb_qs = np.sqrt(mse_xgb)\n",
    "r2_xgb_qs = r2_score(y_test, y_pred_xgb)\n",
    "\n",
    "# Print the evaluation metrics for XGBoost\n",
    "print(\"Best Parameters:\", best_params)\n",
    "print(\"XGBoost Evaluation Metrics:\")\n",
    "print(\"Accuracy:\", accuracy_xgb_qs)\n",
    "print(\"Mean Squared Error:\", mse_xgb_qs)\n",
    "print(\"Mean Absolute Error:\", mae_xgb_qs)\n",
    "print(\"Root Mean Squared Error:\", rmse_xgb_qs)\n",
    "print(\"R-squared score:\", r2_xgb_qs)\n",
    "print(y_pred_xgb_qs)"
   ]
  },
  {
   "cell_type": "code",
   "execution_count": 10,
   "metadata": {},
   "outputs": [
    {
     "name": "stdout",
     "output_type": "stream",
     "text": [
      "Performance of XGB with Standard Scaling 0.9358108108108109\n",
      "Performance of XGB with Quantile Scaling 0.9358108108108109\n"
     ]
    }
   ],
   "source": [
    "print('Performance of XGB with Standard Scaling',accuracy_xgb )\n",
    "print('Performance of XGB with Quantile Scaling',accuracy_xgb_qs )"
   ]
  },
  {
   "cell_type": "code",
   "execution_count": 11,
   "metadata": {},
   "outputs": [
    {
     "data": {
      "image/png": "[encoded data removed]",
      "text/plain": [
       "<Figure size 640x480 with 1 Axes>"
      ]
     },
     "metadata": {},
     "output_type": "display_data"
    }
   ],
   "source": [
    "Algo = ['XGBoost-Quantile', 'XGBoost-Standard']\n",
    "values = [accuracy_xgb_qs,accuracy_xgb]\n",
    "plt.bar(Algo, values)\n",
    "plt.xlabel('Algorithm')\n",
    "plt.ylabel('Accuracy')\n",
    "plt.title('Comparison of XGBoost performance on Z-Score and Quantile Scaling')\n",
    "plt.show()"
   ]
  },
  {
   "cell_type": "code",
   "execution_count": null,
   "metadata": {},
   "outputs": [],
   "source": []
  }
 ],
 "metadata": {
  "kernelspec": {
   "display_name": "Python 3 (ipykernel)",
   "language": "python",
   "name": "python3"
  },
  "language_info": {
   "codemirror_mode": {
    "name": "ipython",
    "version": 3
   },
   "file_extension": ".py",
   "mimetype": "text/x-python",
   "name": "python",
   "nbconvert_exporter": "python",
   "pygments_lexer": "ipython3",
   "version": "3.11.4"
  }
 },
 "nbformat": 4,
 "nbformat_minor": 4
}
